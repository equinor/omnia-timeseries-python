{
 "cells": [
  {
   "cell_type": "markdown",
   "metadata": {},
   "source": [
    "# Device code credentials example\n",
    "\n",
    "This notebook shows how to use the Timeseries API with device code credentials"
   ]
  },
  {
   "cell_type": "markdown",
   "metadata": {},
   "source": [
    "Import the required libraries. The `azure.identity` package will handle the actual authentication to the API"
   ]
  },
  {
   "cell_type": "code",
   "execution_count": null,
   "metadata": {},
   "outputs": [],
   "source": [
    "from omnia_timeseries_api.api import TimeseriesAPI, TimeseriesEnvironment\n",
    "from azure.identity import DeviceCodeCredential\n",
    "import os"
   ]
  },
  {
   "cell_type": "markdown",
   "metadata": {},
   "source": [
    "Set up the API with the desired environment"
   ]
  },
  {
   "cell_type": "code",
   "execution_count": null,
   "metadata": {},
   "outputs": [],
   "source": [
    "credentials = DeviceCodeCredential(client_id=os.environ[\"AZURE_CLIENT_ID\"], tenant_id=os.environ[\"AZURE_TENANT_ID\"])\n",
    "api = TimeseriesAPI(azure_credential=credentials, environment=TimeseriesEnvironment.Beta())"
   ]
  },
  {
   "cell_type": "markdown",
   "metadata": {},
   "source": [
    "Invoking the API with device code credentials will display a code and a url to enter in a browser window. After this is completed, the execution will proceed."
   ]
  },
  {
   "cell_type": "code",
   "execution_count": null,
   "metadata": {},
   "outputs": [],
   "source": [
    "timeseries_id = os.environ[\"OMNIA_TIMESERIES_ID\"]\n",
    "api.get_latest_datapoint(id=timeseries_id)"
   ]
  }
 ],
 "metadata": {
  "interpreter": {
   "hash": "c4733b2b9ae9b4529117b1eacf27fa8f502034d92f5f116530d195fc65f7cce0"
  },
  "kernelspec": {
   "display_name": "Python 3.9.7 64-bit ('.venv': venv)",
   "name": "python3"
  },
  "language_info": {
   "codemirror_mode": {
    "name": "ipython",
    "version": 3
   },
   "file_extension": ".py",
   "mimetype": "text/x-python",
   "name": "python",
   "nbconvert_exporter": "python",
   "pygments_lexer": "ipython3",
   "version": "3.10.11"
  }
 },
 "nbformat": 4,
 "nbformat_minor": 2
}
