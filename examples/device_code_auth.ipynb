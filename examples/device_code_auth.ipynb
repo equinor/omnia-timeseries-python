{
 "cells": [
  {
   "cell_type": "markdown",
   "metadata": {},
   "source": [
    "# Device code credentials example\n",
    "\n",
    "This notebook shows how to use the Timeseries API with device code credentials"
   ]
  },
  {
   "cell_type": "markdown",
   "metadata": {},
   "source": [
    "Import the required libraries. The `azure.identity` package will handle the actual authentication to the API"
   ]
  },
  {
   "cell_type": "code",
   "execution_count": null,
   "metadata": {},
   "outputs": [],
   "source": [
    "from omnia_timeseries.api import TimeseriesAPI, TimeseriesEnvironment\n",
    "from azure.identity import DeviceCodeCredential"
   ]
  },
  {
   "cell_type": "markdown",
   "metadata": {},
   "source": [
    "Set up the API with the desired environment"
   ]
  },
  {
   "cell_type": "code",
   "execution_count": null,
   "metadata": {},
   "outputs": [],
   "source": [
    "credentials = DeviceCodeCredential(client_id=os.environ[\"AZURE_CLIENT_ID\"], tenant_id=os.environ[\"AZURE_TENANT_ID\"])\n",
    "api = TimeseriesAPI(azure_credential=credentials, environment=TimeseriesEnvironment.Beta())"
   ]
  },
  {
   "cell_type": "markdown",
   "metadata": {},
   "source": [
    "Invoking the API with device code credentials will display a code and a url to enter in a browser window. After this is completed, the execution will proceed."
   ]
  },
  {
   "cell_type": "code",
   "execution_count": null,
   "metadata": {},
   "outputs": [],
   "source": [
    "timeseries_id = os.environ[\"OMNIA_TIMESERIES_ID\"]\n",
    "api.get_latest_datapoint(id=timeseries_id)"
   ]
  }
 ],
 "metadata": {
  "language_info": {
   "name": "python"
  }
 },
 "nbformat": 4,
 "nbformat_minor": 2
}