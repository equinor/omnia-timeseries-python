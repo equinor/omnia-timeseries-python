{
 "cells": [
  {
   "cell_type": "markdown",
   "metadata": {},
   "source": [
    "# Get data as protobuf example\n",
    "\n",
    "This notebook shows how to use the Timeseries API to get data in protobuf format. Normally you would get the `.proto` file and generate stubs for the library, but to not include a lot of generated files in the repo, this uses dynamic message generation based on a self describing protobuf description."
   ]
  },
  {
   "cell_type": "markdown",
   "metadata": {},
   "source": [
    "Install the `protobuf` package."
   ]
  },
  {
   "cell_type": "code",
   "execution_count": null,
   "metadata": {},
   "outputs": [],
   "source": [
    "%pip install protobuf"
   ]
  },
  {
   "cell_type": "markdown",
   "metadata": {},
   "source": [
    "Setup the protobuffer descriptor. This is not necessary when using stubs generated from `.proto` file."
   ]
  },
  {
   "cell_type": "code",
   "execution_count": null,
   "metadata": {},
   "outputs": [],
   "source": [
    "import google.protobuf.descriptor_pool\n",
    "from google.protobuf.descriptor_pb2 import FileDescriptorSet\n",
    "from google.protobuf.message_factory import MessageFactory\n",
    "from google.protobuf.json_format import MessageToJson\n",
    "\n",
    "pool = google.protobuf.descriptor_pool.Default()\n",
    "factory = MessageFactory()\n",
    "\n",
    "with open(\"timeseries.protoset\", \"rb\") as proto_file:\n",
    "    file_descriptor_set = FileDescriptorSet.FromString(proto_file.read())\n",
    "    for f in file_descriptor_set.file:\n",
    "        pool.Add(f)"
   ]
  },
  {
   "cell_type": "markdown",
   "metadata": {},
   "source": [
    "Import the required libraries. The `azure.identity` package will handle the actual authentication to the API"
   ]
  },
  {
   "cell_type": "code",
   "execution_count": null,
   "metadata": {},
   "outputs": [],
   "source": [
    "from omnia_timeseries_api.api import TimeseriesAPI, TimeseriesEnvironment\n",
    "from azure.identity import DeviceCodeCredential\n",
    "import os"
   ]
  },
  {
   "cell_type": "markdown",
   "metadata": {},
   "source": [
    "Set up the API with the desired environment"
   ]
  },
  {
   "cell_type": "code",
   "execution_count": null,
   "metadata": {},
   "outputs": [],
   "source": [
    "credentials = DeviceCodeCredential(client_id=os.environ[\"AZURE_CLIENT_ID\"], tenant_id=os.environ[\"AZURE_TENANT_ID\"])\n",
    "api = TimeseriesAPI(azure_credential=credentials, environment=TimeseriesEnvironment.Beta())"
   ]
  },
  {
   "cell_type": "markdown",
   "metadata": {},
   "source": [
    "Invoking the API with device code credentials will display a code and a url to enter in a browser window. After this is completed, the execution will proceed. The `accept` parameter is set to `application/protobuf` to receive data in protobuf format."
   ]
  },
  {
   "cell_type": "code",
   "execution_count": null,
   "metadata": {},
   "outputs": [],
   "source": [
    "timeseries_id = os.environ[\"OMNIA_TIMESERIES_ID\"]\n",
    "protobuf_data = api.get_latest_datapoint(id=timeseries_id, accept=\"application/protobuf\")\n",
    "desc = pool.FindMessageTypeByName(\"CompactDatapointsDto\")\n",
    "CompactDataPointsDto = factory.CreatePrototype(desc)\n",
    "msg = CompactDataPointsDto.FromString(protobuf_data)\n",
    "print(MessageToJson(msg))\n",
    "\n"
   ]
  }
 ],
 "metadata": {
  "interpreter": {
   "hash": "c4733b2b9ae9b4529117b1eacf27fa8f502034d92f5f116530d195fc65f7cce0"
  },
  "kernelspec": {
   "display_name": "Python 3.9.7 64-bit ('.venv': venv)",
   "name": "python3"
  },
  "language_info": {
   "codemirror_mode": {
    "name": "ipython",
    "version": 3
   },
   "file_extension": ".py",
   "mimetype": "text/x-python",
   "name": "python",
   "nbconvert_exporter": "python",
   "pygments_lexer": "ipython3",
   "version": "3.9.7"
  }
 },
 "nbformat": 4,
 "nbformat_minor": 2
}
