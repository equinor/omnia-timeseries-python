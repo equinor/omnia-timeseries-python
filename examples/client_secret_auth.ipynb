{
 "cells": [
  {
   "cell_type": "markdown",
   "source": [
    "# Client secret credentials example\n",
    "\n",
    "This notebook shows how to use the Timeseries API with client secret credentials"
   ],
   "metadata": {}
  },
  {
   "cell_type": "markdown",
   "source": [
    "Import the required libraries. The `azure.identity` package will handle the actual authentication to the API"
   ],
   "metadata": {}
  },
  {
   "cell_type": "code",
   "execution_count": null,
   "source": [
    "from omnia_timeseries.api import TimeseriesAPI, TimeseriesEnvironment\n",
    "from azure.identity import ClientSecretCredential\n",
    "import os"
   ],
   "outputs": [],
   "metadata": {}
  },
  {
   "cell_type": "markdown",
   "source": [
    "Set up the API with the desired environment"
   ],
   "metadata": {}
  },
  {
   "cell_type": "code",
   "execution_count": null,
   "source": [
    "credentials = ClientSecretCredential(\n",
    "    client_id=os.environ[\"AZURE_CLIENT_ID\"], \n",
    "    client_secret=os.environ['AZURE_CLIENT_SECRET'], \n",
    "    tenant_id=os.environ[\"AZURE_TENANT_ID\"])\n",
    "api = TimeseriesAPI(azure_credential=credentials, environment=TimeseriesEnvironment.Beta())"
   ],
   "outputs": [],
   "metadata": {}
  },
  {
   "cell_type": "code",
   "execution_count": null,
   "source": [
    "timeseries_id = os.environ[\"OMNIA_TIMESERIES_ID\"]\n",
    "api.get_latest_datapoint(id=timeseries_id)"
   ],
   "outputs": [],
   "metadata": {}
  }
 ],
 "metadata": {
  "language_info": {
   "name": "python",
   "version": "3.9.6"
  },
  "kernelspec": {
   "name": "python3",
   "display_name": "Python 3.9.6 64-bit ('.venv': venv)"
  },
  "interpreter": {
   "hash": "c4733b2b9ae9b4529117b1eacf27fa8f502034d92f5f116530d195fc65f7cce0"
  }
 },
 "nbformat": 4,
 "nbformat_minor": 2
}