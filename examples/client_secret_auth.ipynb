{
 "metadata": {
  "language_info": {
   "codemirror_mode": {
    "name": "ipython",
    "version": 3
   },
   "file_extension": ".py",
   "mimetype": "text/x-python",
   "name": "python",
   "nbconvert_exporter": "python",
   "pygments_lexer": "ipython3",
   "version": "3.9.5"
  },
  "orig_nbformat": 2,
  "kernelspec": {
   "name": "python395jvsc74a57bd0c4733b2b9ae9b4529117b1eacf27fa8f502034d92f5f116530d195fc65f7cce0",
   "display_name": "Python 3.9.5 64-bit ('.venv')"
  },
  "metadata": {
   "interpreter": {
    "hash": "c4733b2b9ae9b4529117b1eacf27fa8f502034d92f5f116530d195fc65f7cce0"
   }
  }
 },
 "nbformat": 4,
 "nbformat_minor": 2,
 "cells": [
  {
   "source": [
    "# Client secret credentials example\n",
    "\n",
    "This notebook shows how to use the Timeseries API with client secret credentials"
   ],
   "cell_type": "markdown",
   "metadata": {}
  },
  {
   "source": [
    "Import the required libraries. The `azure.identity` package will handle the actual authentication to the API"
   ],
   "cell_type": "markdown",
   "metadata": {}
  },
  {
   "source": [
    "from omnia_timeseries.api import TimeseriesAPI, TimeseriesEnvironment\n",
    "from azure.identity import ClientSecretCredential"
   ],
   "cell_type": "code",
   "metadata": {},
   "execution_count": null,
   "outputs": []
  },
  {
   "source": [
    "Set up the API with the desired environment"
   ],
   "cell_type": "markdown",
   "metadata": {}
  },
  {
   "cell_type": "code",
   "execution_count": null,
   "metadata": {},
   "outputs": [],
   "source": [
    "credentials = ClientSecretCredential(\n",
    "    client_id=os.environ[\"AZURE_CLIENT_ID\"], \n",
    "    client_secret=os.environ['AZURE_CLIENT_SECRET'], \n",
    "    tenant_id=os.environ[\"AZURE_TENANT_ID\"])\n",
    "api = TimeseriesAPI(azure_credential=credentials, environment=TimeseriesEnvironment.Beta())"
   ]
  },
  {
   "cell_type": "code",
   "execution_count": null,
   "metadata": {},
   "outputs": [],
   "source": [
    "api.get_latest_datapoint(id=\"91f945d3-be34-4f8c-a43f-e00a3a2d9cfc\")"
   ]
  }
 ]
}